{
 "cells": [
  {
   "cell_type": "code",
   "execution_count": 1,
   "metadata": {
    "collapsed": true
   },
   "outputs": [],
   "source": [
    "import os\n",
    "import pandas as pd\n",
    "import numpy as np"
   ]
  },
  {
   "cell_type": "code",
   "execution_count": 4,
   "metadata": {
    "collapsed": false
   },
   "outputs": [
    {
     "data": {
      "text/plain": [
       "0"
      ]
     },
     "execution_count": 4,
     "metadata": {},
     "output_type": "execute_result"
    }
   ],
   "source": [
    "os.system(\"curl -O https://www.foreignlaborcert.doleta.gov/docs/py2015q4/H-1B_Disclosure_Data_FY15_Q4.xlsx\")\n",
    "os.system(\"mv H-1B_Disclosure_Data_FY15_Q4.xlsx \" + os.getenv(\"PUIDATA\"))"
   ]
  },
  {
   "cell_type": "code",
   "execution_count": 7,
   "metadata": {
    "collapsed": false
   },
   "outputs": [
    {
     "data": {
      "text/html": [
       "<div>\n",
       "<table border=\"1\" class=\"dataframe\">\n",
       "  <thead>\n",
       "    <tr style=\"text-align: right;\">\n",
       "      <th></th>\n",
       "      <th>CASE_NUMBER</th>\n",
       "      <th>CASE_STATUS</th>\n",
       "      <th>CASE_SUBMITTED</th>\n",
       "      <th>DECISION_DATE</th>\n",
       "      <th>VISA_CLASS</th>\n",
       "      <th>EMPLOYMENT_START_DATE</th>\n",
       "      <th>EMPLOYMENT_END_DATE</th>\n",
       "      <th>EMPLOYER_NAME</th>\n",
       "      <th>EMPLOYER_ADDRESS1</th>\n",
       "      <th>EMPLOYER_ADDRESS2</th>\n",
       "      <th>...</th>\n",
       "      <th>PW_WAGE_SOURCE_YEAR</th>\n",
       "      <th>PW_WAGE_SOURCE_OTHER</th>\n",
       "      <th>WAGE_RATE_OF_PAY</th>\n",
       "      <th>WAGE_UNIT_OF_PAY</th>\n",
       "      <th>H-1B_DEPENDENT</th>\n",
       "      <th>WILLFUL VIOLATOR</th>\n",
       "      <th>WORKSITE_CITY</th>\n",
       "      <th>WORKSITE_COUNTY</th>\n",
       "      <th>WORKSITE_STATE</th>\n",
       "      <th>WORKSITE_POSTAL_CODE</th>\n",
       "    </tr>\n",
       "  </thead>\n",
       "  <tbody>\n",
       "    <tr>\n",
       "      <th>0</th>\n",
       "      <td>I-200-09121-701936</td>\n",
       "      <td>WITHDRAWN</td>\n",
       "      <td>2015-02-05</td>\n",
       "      <td>2015-02-05</td>\n",
       "      <td>H-1B</td>\n",
       "      <td>02/09/2015</td>\n",
       "      <td>02/28/2015</td>\n",
       "      <td>MEDTRONIC, INC.</td>\n",
       "      <td>710 MEDTRONIC PARKWAY NE</td>\n",
       "      <td>NaN</td>\n",
       "      <td>...</td>\n",
       "      <td>2014.0</td>\n",
       "      <td>ONLINE DATA SURVEY</td>\n",
       "      <td>20000 -</td>\n",
       "      <td>Year</td>\n",
       "      <td>N</td>\n",
       "      <td>N</td>\n",
       "      <td>EDEN PRAIRIE</td>\n",
       "      <td>STERNS</td>\n",
       "      <td>CA</td>\n",
       "      <td>55412</td>\n",
       "    </tr>\n",
       "    <tr>\n",
       "      <th>1</th>\n",
       "      <td>I-200-09146-796321</td>\n",
       "      <td>CERTIFIED</td>\n",
       "      <td>2014-12-12</td>\n",
       "      <td>2014-12-18</td>\n",
       "      <td>H-1B</td>\n",
       "      <td>01/05/2015</td>\n",
       "      <td>01/04/2018</td>\n",
       "      <td>UNIVERSITY OF OKLAHOMA</td>\n",
       "      <td>905 ASP AVE</td>\n",
       "      <td>NEL BLDG 207</td>\n",
       "      <td>...</td>\n",
       "      <td>2014.0</td>\n",
       "      <td>OFLC ONLINE DATA CENTER</td>\n",
       "      <td>85000.00 -</td>\n",
       "      <td>Year</td>\n",
       "      <td>N</td>\n",
       "      <td>N</td>\n",
       "      <td>NORMAN</td>\n",
       "      <td>CLEVELAND</td>\n",
       "      <td>OK</td>\n",
       "      <td>73019</td>\n",
       "    </tr>\n",
       "    <tr>\n",
       "      <th>2</th>\n",
       "      <td>I-200-09180-329758</td>\n",
       "      <td>WITHDRAWN</td>\n",
       "      <td>2013-01-03</td>\n",
       "      <td>2014-12-15</td>\n",
       "      <td>H-1B</td>\n",
       "      <td>01/07/2013</td>\n",
       "      <td>01/06/2016</td>\n",
       "      <td>NOKIA INC.</td>\n",
       "      <td>6021 CONNECTION DRIVE</td>\n",
       "      <td>NaN</td>\n",
       "      <td>...</td>\n",
       "      <td>2012.0</td>\n",
       "      <td>OFLC ONLINE DATA CENTER</td>\n",
       "      <td>94000 -</td>\n",
       "      <td>Year</td>\n",
       "      <td>N</td>\n",
       "      <td>N</td>\n",
       "      <td>SAN DIEGO</td>\n",
       "      <td>SAN DIEGO</td>\n",
       "      <td>CA</td>\n",
       "      <td>92127</td>\n",
       "    </tr>\n",
       "    <tr>\n",
       "      <th>3</th>\n",
       "      <td>I-200-09183-259985</td>\n",
       "      <td>CERTIFIED</td>\n",
       "      <td>2015-03-10</td>\n",
       "      <td>2015-03-16</td>\n",
       "      <td>H-1B</td>\n",
       "      <td>09/07/2015</td>\n",
       "      <td>09/07/2018</td>\n",
       "      <td>OMRON OILFIELD AND MARINE, INC.</td>\n",
       "      <td>9510 N. HOUSTON ROSSLYN ROAD</td>\n",
       "      <td>NaN</td>\n",
       "      <td>...</td>\n",
       "      <td>2014.0</td>\n",
       "      <td>OFLC ONLINE DATA CENTER</td>\n",
       "      <td>66000 - 70000</td>\n",
       "      <td>Year</td>\n",
       "      <td>N</td>\n",
       "      <td>N</td>\n",
       "      <td>HOUSTON</td>\n",
       "      <td>HARRIS</td>\n",
       "      <td>TX</td>\n",
       "      <td>77088</td>\n",
       "    </tr>\n",
       "    <tr>\n",
       "      <th>4</th>\n",
       "      <td>I-200-09189-800933</td>\n",
       "      <td>CERTIFIED</td>\n",
       "      <td>2014-12-17</td>\n",
       "      <td>2014-12-23</td>\n",
       "      <td>H-1B</td>\n",
       "      <td>06/06/2015</td>\n",
       "      <td>06/05/2018</td>\n",
       "      <td>FEDERAL HOME LOAN MORTGAGE CO.</td>\n",
       "      <td>8250 JONES BRANCH DRIVE</td>\n",
       "      <td>MSA3E</td>\n",
       "      <td>...</td>\n",
       "      <td>2014.0</td>\n",
       "      <td>OFLC ONLINE DATA CENTER</td>\n",
       "      <td>97000 - 143300</td>\n",
       "      <td>Year</td>\n",
       "      <td>N</td>\n",
       "      <td>N</td>\n",
       "      <td>MCLEAN</td>\n",
       "      <td>FAIRFAX</td>\n",
       "      <td>VA</td>\n",
       "      <td>22102</td>\n",
       "    </tr>\n",
       "  </tbody>\n",
       "</table>\n",
       "<p>5 rows × 40 columns</p>\n",
       "</div>"
      ],
      "text/plain": [
       "          CASE_NUMBER CASE_STATUS CASE_SUBMITTED DECISION_DATE VISA_CLASS  \\\n",
       "0  I-200-09121-701936   WITHDRAWN     2015-02-05    2015-02-05       H-1B   \n",
       "1  I-200-09146-796321   CERTIFIED     2014-12-12    2014-12-18       H-1B   \n",
       "2  I-200-09180-329758   WITHDRAWN     2013-01-03    2014-12-15       H-1B   \n",
       "3  I-200-09183-259985   CERTIFIED     2015-03-10    2015-03-16       H-1B   \n",
       "4  I-200-09189-800933   CERTIFIED     2014-12-17    2014-12-23       H-1B   \n",
       "\n",
       "  EMPLOYMENT_START_DATE EMPLOYMENT_END_DATE                    EMPLOYER_NAME  \\\n",
       "0            02/09/2015          02/28/2015                  MEDTRONIC, INC.   \n",
       "1            01/05/2015          01/04/2018           UNIVERSITY OF OKLAHOMA   \n",
       "2            01/07/2013          01/06/2016                       NOKIA INC.   \n",
       "3            09/07/2015          09/07/2018  OMRON OILFIELD AND MARINE, INC.   \n",
       "4            06/06/2015          06/05/2018   FEDERAL HOME LOAN MORTGAGE CO.   \n",
       "\n",
       "              EMPLOYER_ADDRESS1 EMPLOYER_ADDRESS2         ...           \\\n",
       "0      710 MEDTRONIC PARKWAY NE               NaN         ...            \n",
       "1                   905 ASP AVE      NEL BLDG 207         ...            \n",
       "2         6021 CONNECTION DRIVE               NaN         ...            \n",
       "3  9510 N. HOUSTON ROSSLYN ROAD               NaN         ...            \n",
       "4       8250 JONES BRANCH DRIVE             MSA3E         ...            \n",
       "\n",
       "  PW_WAGE_SOURCE_YEAR     PW_WAGE_SOURCE_OTHER WAGE_RATE_OF_PAY  \\\n",
       "0              2014.0       ONLINE DATA SURVEY          20000 -   \n",
       "1              2014.0  OFLC ONLINE DATA CENTER       85000.00 -   \n",
       "2              2012.0  OFLC ONLINE DATA CENTER          94000 -   \n",
       "3              2014.0  OFLC ONLINE DATA CENTER    66000 - 70000   \n",
       "4              2014.0  OFLC ONLINE DATA CENTER   97000 - 143300   \n",
       "\n",
       "  WAGE_UNIT_OF_PAY H-1B_DEPENDENT  WILLFUL VIOLATOR  WORKSITE_CITY  \\\n",
       "0             Year              N                 N   EDEN PRAIRIE   \n",
       "1             Year              N                 N         NORMAN   \n",
       "2             Year              N                 N      SAN DIEGO   \n",
       "3             Year              N                 N        HOUSTON   \n",
       "4             Year              N                 N         MCLEAN   \n",
       "\n",
       "  WORKSITE_COUNTY WORKSITE_STATE WORKSITE_POSTAL_CODE  \n",
       "0          STERNS             CA                55412  \n",
       "1       CLEVELAND             OK                73019  \n",
       "2       SAN DIEGO             CA                92127  \n",
       "3          HARRIS             TX                77088  \n",
       "4         FAIRFAX             VA                22102  \n",
       "\n",
       "[5 rows x 40 columns]"
      ]
     },
     "execution_count": 7,
     "metadata": {},
     "output_type": "execute_result"
    }
   ],
   "source": [
    "data = pd.read_excel(os.getenv(\"PUIDATA\") + \"/H-1B_Disclosure_Data_FY15_Q4.xlsx\")\n",
    "data.head()"
   ]
  },
  {
   "cell_type": "code",
   "execution_count": 8,
   "metadata": {
    "collapsed": false
   },
   "outputs": [
    {
     "data": {
      "text/plain": [
       "(618804, 40)"
      ]
     },
     "execution_count": 8,
     "metadata": {},
     "output_type": "execute_result"
    }
   ],
   "source": [
    "data.shape"
   ]
  },
  {
   "cell_type": "code",
   "execution_count": 75,
   "metadata": {
    "collapsed": false
   },
   "outputs": [
    {
     "name": "stdout",
     "output_type": "stream",
     "text": [
      "object\n"
     ]
    }
   ],
   "source": [
    "print data.dtypes.values[1]"
   ]
  },
  {
   "cell_type": "code",
   "execution_count": 49,
   "metadata": {
    "collapsed": false
   },
   "outputs": [
    {
     "name": "stdout",
     "output_type": "stream",
     "text": [
      " 0 : CASE_NUMBER\n",
      " 1 : CASE_STATUS\n",
      " 2 : CASE_SUBMITTED\n",
      " 3 : DECISION_DATE\n",
      " 4 : VISA_CLASS\n",
      " 5 : EMPLOYMENT_START_DATE\n",
      " 6 : EMPLOYMENT_END_DATE\n",
      " 7 : EMPLOYER_NAME\n",
      " 8 : EMPLOYER_ADDRESS1\n",
      " 9 : EMPLOYER_ADDRESS2\n",
      "10 : EMPLOYER_CITY\n",
      "11 : EMPLOYER_STATE\n",
      "12 : EMPLOYER_POSTAL_CODE\n",
      "13 : EMPLOYER_COUNTRY\n",
      "14 : EMPLOYER_PROVINCE\n",
      "15 : EMPLOYER_PHONE\n",
      "16 : EMPLOYER_PHONE_EXT\n",
      "17 : AGENT_ATTORNEY_NAME\n",
      "18 : AGENT_ATTORNEY_CITY\n",
      "19 : AGENT_ATTORNEY_STATE\n",
      "20 : JOB_TITLE\n",
      "21 : SOC_CODE\n",
      "22 : SOC_NAME\n",
      "23 : NAIC_CODE\n",
      "24 : TOTAL WORKERS\n",
      "25 : FULL_TIME_POSITION\n",
      "26 : PREVAILING_WAGE\n",
      "27 : PW_UNIT_OF_PAY\n",
      "28 : PW_WAGE_LEVEL\n",
      "29 : PW_WAGE_SOURCE\n",
      "30 : PW_WAGE_SOURCE_YEAR\n",
      "31 : PW_WAGE_SOURCE_OTHER\n",
      "32 : WAGE_RATE_OF_PAY\n",
      "33 : WAGE_UNIT_OF_PAY\n",
      "34 : H-1B_DEPENDENT\n",
      "35 : WILLFUL VIOLATOR\n",
      "36 : WORKSITE_CITY\n",
      "37 : WORKSITE_COUNTY\n",
      "38 : WORKSITE_STATE\n",
      "39 : WORKSITE_POSTAL_CODE\n"
     ]
    }
   ],
   "source": [
    "for i, col in enumerate(data.columns):\n",
    "    print (\"%2d : %s\"%(i, col))"
   ]
  },
  {
   "cell_type": "code",
   "execution_count": 76,
   "metadata": {
    "collapsed": true
   },
   "outputs": [],
   "source": [
    "Rcols = [0,1,2,3,5,6,7,20,22,23,24,25,26,27,28,32,33,34,35,36,38,39]"
   ]
  },
  {
   "cell_type": "code",
   "execution_count": 17,
   "metadata": {
    "collapsed": false
   },
   "outputs": [
    {
     "data": {
      "text/plain": [
       "array([u'H-1B', u'H-1B1 Chile', u'H-1B1 Singapore', u'E-3 Australian'], dtype=object)"
      ]
     },
     "execution_count": 17,
     "metadata": {},
     "output_type": "execute_result"
    }
   ],
   "source": [
    "data['VISA_CLASS'].unique()"
   ]
  },
  {
   "cell_type": "code",
   "execution_count": 14,
   "metadata": {
    "collapsed": false
   },
   "outputs": [],
   "source": [
    "data1 = data[data['VISA_CLASS'] == 'H-1B']"
   ]
  },
  {
   "cell_type": "code",
   "execution_count": 26,
   "metadata": {
    "collapsed": false
   },
   "outputs": [
    {
     "data": {
      "text/plain": [
       "(605803, 40)"
      ]
     },
     "execution_count": 26,
     "metadata": {},
     "output_type": "execute_result"
    }
   ],
   "source": [
    "data1.shape"
   ]
  },
  {
   "cell_type": "code",
   "execution_count": 42,
   "metadata": {
    "collapsed": false
   },
   "outputs": [
    {
     "data": {
      "text/plain": [
       "591219"
      ]
     },
     "execution_count": 42,
     "metadata": {},
     "output_type": "execute_result"
    }
   ],
   "source": [
    "np.sum(data1['FULL_TIME_POSITION'] == 'Y')"
   ]
  },
  {
   "cell_type": "code",
   "execution_count": 52,
   "metadata": {
    "collapsed": true
   },
   "outputs": [],
   "source": [
    "data2 = data1[data1['FULL_TIME_POSITION'] == 'Y']"
   ]
  },
  {
   "cell_type": "code",
   "execution_count": 80,
   "metadata": {
    "collapsed": false
   },
   "outputs": [
    {
     "data": {
      "text/plain": [
       "(605803, 22)"
      ]
     },
     "execution_count": 80,
     "metadata": {},
     "output_type": "execute_result"
    }
   ],
   "source": [
    "data3 = data1.iloc[:, Rcols]\n",
    "data3.shape"
   ]
  },
  {
   "cell_type": "code",
   "execution_count": 78,
   "metadata": {
    "collapsed": false
   },
   "outputs": [
    {
     "data": {
      "text/plain": [
       "CASE_NUMBER                      object\n",
       "CASE_STATUS                      object\n",
       "CASE_SUBMITTED           datetime64[ns]\n",
       "DECISION_DATE            datetime64[ns]\n",
       "EMPLOYMENT_START_DATE            object\n",
       "EMPLOYMENT_END_DATE              object\n",
       "EMPLOYER_NAME                    object\n",
       "JOB_TITLE                        object\n",
       "SOC_NAME                         object\n",
       "NAIC_CODE                       float64\n",
       "TOTAL WORKERS                   float64\n",
       "FULL_TIME_POSITION               object\n",
       "PREVAILING_WAGE                 float64\n",
       "PW_UNIT_OF_PAY                   object\n",
       "PW_WAGE_LEVEL                    object\n",
       "WAGE_RATE_OF_PAY                 object\n",
       "WAGE_UNIT_OF_PAY                 object\n",
       "H-1B_DEPENDENT                   object\n",
       "WILLFUL VIOLATOR                 object\n",
       "WORKSITE_CITY                    object\n",
       "WORKSITE_STATE                   object\n",
       "WORKSITE_POSTAL_CODE             object\n",
       "dtype: object"
      ]
     },
     "execution_count": 78,
     "metadata": {},
     "output_type": "execute_result"
    }
   ],
   "source": [
    "data3.dtypes"
   ]
  },
  {
   "cell_type": "code",
   "execution_count": 85,
   "metadata": {
    "collapsed": false
   },
   "outputs": [
    {
     "data": {
      "text/html": [
       "<div>\n",
       "<table border=\"1\" class=\"dataframe\">\n",
       "  <thead>\n",
       "    <tr style=\"text-align: right;\">\n",
       "      <th></th>\n",
       "      <th>CASE_NUMBER</th>\n",
       "      <th>CASE_SUBMITTED</th>\n",
       "      <th>DECISION_DATE</th>\n",
       "      <th>EMPLOYMENT_START_DATE</th>\n",
       "      <th>EMPLOYMENT_END_DATE</th>\n",
       "      <th>EMPLOYER_NAME</th>\n",
       "      <th>JOB_TITLE</th>\n",
       "      <th>SOC_NAME</th>\n",
       "      <th>NAIC_CODE</th>\n",
       "      <th>TOTAL WORKERS</th>\n",
       "      <th>...</th>\n",
       "      <th>PREVAILING_WAGE</th>\n",
       "      <th>PW_UNIT_OF_PAY</th>\n",
       "      <th>PW_WAGE_LEVEL</th>\n",
       "      <th>WAGE_RATE_OF_PAY</th>\n",
       "      <th>WAGE_UNIT_OF_PAY</th>\n",
       "      <th>H-1B_DEPENDENT</th>\n",
       "      <th>WILLFUL VIOLATOR</th>\n",
       "      <th>WORKSITE_CITY</th>\n",
       "      <th>WORKSITE_STATE</th>\n",
       "      <th>WORKSITE_POSTAL_CODE</th>\n",
       "    </tr>\n",
       "    <tr>\n",
       "      <th>CASE_STATUS</th>\n",
       "      <th></th>\n",
       "      <th></th>\n",
       "      <th></th>\n",
       "      <th></th>\n",
       "      <th></th>\n",
       "      <th></th>\n",
       "      <th></th>\n",
       "      <th></th>\n",
       "      <th></th>\n",
       "      <th></th>\n",
       "      <th></th>\n",
       "      <th></th>\n",
       "      <th></th>\n",
       "      <th></th>\n",
       "      <th></th>\n",
       "      <th></th>\n",
       "      <th></th>\n",
       "      <th></th>\n",
       "      <th></th>\n",
       "      <th></th>\n",
       "      <th></th>\n",
       "    </tr>\n",
       "  </thead>\n",
       "  <tbody>\n",
       "    <tr>\n",
       "      <th>CERTIFIED</th>\n",
       "      <td>536693</td>\n",
       "      <td>536693</td>\n",
       "      <td>536693</td>\n",
       "      <td>536693</td>\n",
       "      <td>536693</td>\n",
       "      <td>536692</td>\n",
       "      <td>536693</td>\n",
       "      <td>536693</td>\n",
       "      <td>536692</td>\n",
       "      <td>536693</td>\n",
       "      <td>...</td>\n",
       "      <td>536693</td>\n",
       "      <td>536693</td>\n",
       "      <td>513949</td>\n",
       "      <td>536693</td>\n",
       "      <td>536693</td>\n",
       "      <td>536693</td>\n",
       "      <td>536693</td>\n",
       "      <td>536685</td>\n",
       "      <td>536693</td>\n",
       "      <td>536685</td>\n",
       "    </tr>\n",
       "    <tr>\n",
       "      <th>CERTIFIED-WITHDRAWN</th>\n",
       "      <td>40368</td>\n",
       "      <td>40368</td>\n",
       "      <td>40368</td>\n",
       "      <td>40368</td>\n",
       "      <td>40368</td>\n",
       "      <td>40368</td>\n",
       "      <td>40368</td>\n",
       "      <td>40368</td>\n",
       "      <td>40368</td>\n",
       "      <td>40368</td>\n",
       "      <td>...</td>\n",
       "      <td>40368</td>\n",
       "      <td>40368</td>\n",
       "      <td>37619</td>\n",
       "      <td>40368</td>\n",
       "      <td>40368</td>\n",
       "      <td>40368</td>\n",
       "      <td>40368</td>\n",
       "      <td>40367</td>\n",
       "      <td>40368</td>\n",
       "      <td>40366</td>\n",
       "    </tr>\n",
       "    <tr>\n",
       "      <th>DENIED</th>\n",
       "      <td>9703</td>\n",
       "      <td>9703</td>\n",
       "      <td>9703</td>\n",
       "      <td>9701</td>\n",
       "      <td>9701</td>\n",
       "      <td>9702</td>\n",
       "      <td>9699</td>\n",
       "      <td>9700</td>\n",
       "      <td>9701</td>\n",
       "      <td>9702</td>\n",
       "      <td>...</td>\n",
       "      <td>9670</td>\n",
       "      <td>9662</td>\n",
       "      <td>8188</td>\n",
       "      <td>9703</td>\n",
       "      <td>9690</td>\n",
       "      <td>9684</td>\n",
       "      <td>9685</td>\n",
       "      <td>9698</td>\n",
       "      <td>9695</td>\n",
       "      <td>9695</td>\n",
       "    </tr>\n",
       "    <tr>\n",
       "      <th>WITHDRAWN</th>\n",
       "      <td>19039</td>\n",
       "      <td>19039</td>\n",
       "      <td>19039</td>\n",
       "      <td>19022</td>\n",
       "      <td>19022</td>\n",
       "      <td>19018</td>\n",
       "      <td>19023</td>\n",
       "      <td>19026</td>\n",
       "      <td>19022</td>\n",
       "      <td>19025</td>\n",
       "      <td>...</td>\n",
       "      <td>19023</td>\n",
       "      <td>19023</td>\n",
       "      <td>18086</td>\n",
       "      <td>19039</td>\n",
       "      <td>19023</td>\n",
       "      <td>19023</td>\n",
       "      <td>19023</td>\n",
       "      <td>19020</td>\n",
       "      <td>19022</td>\n",
       "      <td>19020</td>\n",
       "    </tr>\n",
       "  </tbody>\n",
       "</table>\n",
       "<p>4 rows × 21 columns</p>\n",
       "</div>"
      ],
      "text/plain": [
       "                     CASE_NUMBER  CASE_SUBMITTED  DECISION_DATE  \\\n",
       "CASE_STATUS                                                       \n",
       "CERTIFIED                 536693          536693         536693   \n",
       "CERTIFIED-WITHDRAWN        40368           40368          40368   \n",
       "DENIED                      9703            9703           9703   \n",
       "WITHDRAWN                  19039           19039          19039   \n",
       "\n",
       "                     EMPLOYMENT_START_DATE  EMPLOYMENT_END_DATE  \\\n",
       "CASE_STATUS                                                       \n",
       "CERTIFIED                           536693               536693   \n",
       "CERTIFIED-WITHDRAWN                  40368                40368   \n",
       "DENIED                                9701                 9701   \n",
       "WITHDRAWN                            19022                19022   \n",
       "\n",
       "                     EMPLOYER_NAME  JOB_TITLE  SOC_NAME  NAIC_CODE  \\\n",
       "CASE_STATUS                                                          \n",
       "CERTIFIED                   536692     536693    536693     536692   \n",
       "CERTIFIED-WITHDRAWN          40368      40368     40368      40368   \n",
       "DENIED                        9702       9699      9700       9701   \n",
       "WITHDRAWN                    19018      19023     19026      19022   \n",
       "\n",
       "                     TOTAL WORKERS          ...           PREVAILING_WAGE  \\\n",
       "CASE_STATUS                                 ...                             \n",
       "CERTIFIED                   536693          ...                    536693   \n",
       "CERTIFIED-WITHDRAWN          40368          ...                     40368   \n",
       "DENIED                        9702          ...                      9670   \n",
       "WITHDRAWN                    19025          ...                     19023   \n",
       "\n",
       "                     PW_UNIT_OF_PAY  PW_WAGE_LEVEL  WAGE_RATE_OF_PAY  \\\n",
       "CASE_STATUS                                                            \n",
       "CERTIFIED                    536693         513949            536693   \n",
       "CERTIFIED-WITHDRAWN           40368          37619             40368   \n",
       "DENIED                         9662           8188              9703   \n",
       "WITHDRAWN                     19023          18086             19039   \n",
       "\n",
       "                     WAGE_UNIT_OF_PAY  H-1B_DEPENDENT  WILLFUL VIOLATOR  \\\n",
       "CASE_STATUS                                                               \n",
       "CERTIFIED                      536693          536693            536693   \n",
       "CERTIFIED-WITHDRAWN             40368           40368             40368   \n",
       "DENIED                           9690            9684              9685   \n",
       "WITHDRAWN                       19023           19023             19023   \n",
       "\n",
       "                     WORKSITE_CITY  WORKSITE_STATE  WORKSITE_POSTAL_CODE  \n",
       "CASE_STATUS                                                               \n",
       "CERTIFIED                   536685          536693                536685  \n",
       "CERTIFIED-WITHDRAWN          40367           40368                 40366  \n",
       "DENIED                        9698            9695                  9695  \n",
       "WITHDRAWN                    19020           19022                 19020  \n",
       "\n",
       "[4 rows x 21 columns]"
      ]
     },
     "execution_count": 85,
     "metadata": {},
     "output_type": "execute_result"
    }
   ],
   "source": [
    "data3.groupby('CASE_STATUS').count()"
   ]
  },
  {
   "cell_type": "code",
   "execution_count": 86,
   "metadata": {
    "collapsed": false
   },
   "outputs": [
    {
     "data": {
      "text/plain": [
       "(546396, 22)"
      ]
     },
     "execution_count": 86,
     "metadata": {},
     "output_type": "execute_result"
    }
   ],
   "source": [
    "data4 = data3[(data3['CASE_STATUS'] == 'CERTIFIED') | (data3['CASE_STATUS'] == 'DENIED')]\n",
    "data4.shape"
   ]
  },
  {
   "cell_type": "code",
   "execution_count": 87,
   "metadata": {
    "collapsed": false
   },
   "outputs": [
    {
     "data": {
      "text/plain": [
       "533015"
      ]
     },
     "execution_count": 87,
     "metadata": {},
     "output_type": "execute_result"
    }
   ],
   "source": [
    "np.sum(data4[\"FULL_TIME_POSITION\"] == 'Y')"
   ]
  },
  {
   "cell_type": "code",
   "execution_count": 88,
   "metadata": {
    "collapsed": false
   },
   "outputs": [
    {
     "data": {
      "text/plain": [
       "array([u'Year', u'Hour', u'Week', u'Month', nan, u'Bi-Weekly'], dtype=object)"
      ]
     },
     "execution_count": 88,
     "metadata": {},
     "output_type": "execute_result"
    }
   ],
   "source": [
    "data4['PW_UNIT_OF_PAY'].unique()"
   ]
  },
  {
   "cell_type": "code",
   "execution_count": 90,
   "metadata": {
    "collapsed": false
   },
   "outputs": [
    {
     "data": {
      "text/plain": [
       "array([u'Year', u'Hour', u'Week', u'Month', u'Bi-Weekly', nan], dtype=object)"
      ]
     },
     "execution_count": 90,
     "metadata": {},
     "output_type": "execute_result"
    }
   ],
   "source": [
    "data4['WAGE_UNIT_OF_PAY'].unique()"
   ]
  },
  {
   "cell_type": "code",
   "execution_count": 117,
   "metadata": {
    "collapsed": false
   },
   "outputs": [
    {
     "data": {
      "text/plain": [
       "(546345, 22)"
      ]
     },
     "execution_count": 117,
     "metadata": {},
     "output_type": "execute_result"
    }
   ],
   "source": [
    "data5 = data4.dropna(subset = ['PW_UNIT_OF_PAY', 'WAGE_UNIT_OF_PAY', \n",
    "                               'PREVAILING_WAGE', 'WAGE_RATE_OF_PAY', 'FULL_TIME_POSITION'])\n",
    "data5.shape"
   ]
  },
  {
   "cell_type": "code",
   "execution_count": 115,
   "metadata": {
    "collapsed": true
   },
   "outputs": [],
   "source": [
    "def convertwage(wage, unit, FT):\n",
    "    if unit == 'Year':\n",
    "        return wage\n",
    "    elif unit == 'Month':\n",
    "        return wage * 12\n",
    "    elif unit == 'Week':\n",
    "        return wage * 4 *12\n",
    "    elif unit == 'Bi-Weekly':\n",
    "        return wage * 2 * 12\n",
    "    elif unit == 'Hour':\n",
    "        if FT == 'Y':\n",
    "            return wage * 40 * 4 * 12\n",
    "        elif FT == 'N':\n",
    "            return wage * 20 * 4 * 12\n",
    "Convertwage = np.vectorize(convertwage)"
   ]
  },
  {
   "cell_type": "code",
   "execution_count": 148,
   "metadata": {
    "collapsed": true
   },
   "outputs": [],
   "source": [
    "def rangeconvert(w_str):\n",
    "    w_list = np.array(w_str.split(\"-\"))\n",
    "    try:\n",
    "        return (w_list[0].astype(float) + w_list[1].astype(float)) / 2\n",
    "    except ValueError:\n",
    "        return w_list[0].astype(float)\n",
    "Rangeconvert = np.vectorize(rangeconvert)"
   ]
  },
  {
   "cell_type": "code",
   "execution_count": 118,
   "metadata": {
    "collapsed": false
   },
   "outputs": [
    {
     "data": {
      "text/plain": [
       "array([  42860.,   65998.,   96907., ...,   51272.,   80704.,  178381.])"
      ]
     },
     "execution_count": 118,
     "metadata": {},
     "output_type": "execute_result"
    }
   ],
   "source": [
    "Convertwage(data5['PREVAILING_WAGE'], data5['PW_UNIT_OF_PAY'], data5['FULL_TIME_POSITION'])"
   ]
  },
  {
   "cell_type": "code",
   "execution_count": 149,
   "metadata": {
    "collapsed": false
   },
   "outputs": [
    {
     "data": {
      "text/plain": [
       "array([  85000.,   68000.,  120150., ...,   55000.,   85000.,  225000.])"
      ]
     },
     "execution_count": 149,
     "metadata": {},
     "output_type": "execute_result"
    }
   ],
   "source": [
    "Rangeconvert(data5['WAGE_RATE_OF_PAY'])"
   ]
  },
  {
   "cell_type": "code",
   "execution_count": 150,
   "metadata": {
    "collapsed": false
   },
   "outputs": [
    {
     "data": {
      "text/plain": [
       "array([  85000.,   68000.,  120150., ...,   55000.,   85000.,  225000.])"
      ]
     },
     "execution_count": 150,
     "metadata": {},
     "output_type": "execute_result"
    }
   ],
   "source": [
    "Convertwage(Rangeconvert(data5['WAGE_RATE_OF_PAY']), data5['WAGE_UNIT_OF_PAY'], data5['FULL_TIME_POSITION'])"
   ]
  },
  {
   "cell_type": "code",
   "execution_count": 151,
   "metadata": {
    "collapsed": false
   },
   "outputs": [
    {
     "name": "stderr",
     "output_type": "stream",
     "text": [
      "/opt/rh/anaconda/root/envs/PUI2016_Python2/lib/python2.7/site-packages/ipykernel/__main__.py:1: SettingWithCopyWarning: \n",
      "A value is trying to be set on a copy of a slice from a DataFrame.\n",
      "Try using .loc[row_indexer,col_indexer] = value instead\n",
      "\n",
      "See the caveats in the documentation: http://pandas.pydata.org/pandas-docs/stable/indexing.html#indexing-view-versus-copy\n",
      "  if __name__ == '__main__':\n",
      "/opt/rh/anaconda/root/envs/PUI2016_Python2/lib/python2.7/site-packages/ipykernel/__main__.py:3: SettingWithCopyWarning: \n",
      "A value is trying to be set on a copy of a slice from a DataFrame.\n",
      "Try using .loc[row_indexer,col_indexer] = value instead\n",
      "\n",
      "See the caveats in the documentation: http://pandas.pydata.org/pandas-docs/stable/indexing.html#indexing-view-versus-copy\n",
      "  app.launch_new_instance()\n"
     ]
    }
   ],
   "source": [
    "data5['PW_WAGE_annual'] = Convertwage(data5['PREVAILING_WAGE'], data5['PW_UNIT_OF_PAY'], data5['FULL_TIME_POSITION'])\n",
    "data5['WAGE_annual'] = Convertwage(Rangeconvert(data5['WAGE_RATE_OF_PAY']), \n",
    "                                   data5['WAGE_UNIT_OF_PAY'], data5['FULL_TIME_POSITION'])"
   ]
  },
  {
   "cell_type": "code",
   "execution_count": 154,
   "metadata": {
    "collapsed": false
   },
   "outputs": [
    {
     "data": {
      "text/plain": [
       "CASE_NUMBER                      object\n",
       "CASE_STATUS                      object\n",
       "CASE_SUBMITTED           datetime64[ns]\n",
       "DECISION_DATE            datetime64[ns]\n",
       "EMPLOYMENT_START_DATE            object\n",
       "EMPLOYMENT_END_DATE              object\n",
       "EMPLOYER_NAME                    object\n",
       "JOB_TITLE                        object\n",
       "SOC_NAME                         object\n",
       "NAIC_CODE                       float64\n",
       "TOTAL WORKERS                   float64\n",
       "FULL_TIME_POSITION               object\n",
       "PREVAILING_WAGE                 float64\n",
       "PW_UNIT_OF_PAY                   object\n",
       "PW_WAGE_LEVEL                    object\n",
       "WAGE_RATE_OF_PAY                 object\n",
       "WAGE_UNIT_OF_PAY                 object\n",
       "H-1B_DEPENDENT                   object\n",
       "WILLFUL VIOLATOR                 object\n",
       "WORKSITE_CITY                    object\n",
       "WORKSITE_STATE                   object\n",
       "WORKSITE_POSTAL_CODE             object\n",
       "PW_WAGE_annual                  float64\n",
       "WAGE_annual                     float64\n",
       "dtype: object"
      ]
     },
     "execution_count": 154,
     "metadata": {},
     "output_type": "execute_result"
    }
   ],
   "source": [
    "data5.dtypes"
   ]
  },
  {
   "cell_type": "code",
   "execution_count": 167,
   "metadata": {
    "collapsed": true
   },
   "outputs": [],
   "source": [
    "from sklearn.linear_model import LogisticRegression\n",
    "from sklearn.metrics import confusion_matrix"
   ]
  },
  {
   "cell_type": "code",
   "execution_count": 156,
   "metadata": {
    "collapsed": true
   },
   "outputs": [],
   "source": [
    "def status(S):\n",
    "    if S == 'CERTIFIED':\n",
    "        return 1\n",
    "    else:\n",
    "        return 0\n",
    "Status = np.vectorize(status)"
   ]
  },
  {
   "cell_type": "code",
   "execution_count": 159,
   "metadata": {
    "collapsed": true
   },
   "outputs": [],
   "source": [
    "def dep(D):\n",
    "    if D == 'Y':\n",
    "        return 1\n",
    "    else:\n",
    "        return 0\n",
    "Dep = np.vectorize(dep)"
   ]
  },
  {
   "cell_type": "code",
   "execution_count": 165,
   "metadata": {
    "collapsed": true
   },
   "outputs": [],
   "source": [
    "Rdata = data5.loc[:,['PW_WAGE_annual', 'WAGE_annual', 'NAIC_CODE', 'TOTAL WORKERS', \n",
    "                     'H-1B_DEPENDENT', 'CASE_STATUS']].dropna()\n",
    "Y = Status(Rdata['CASE_STATUS'])\n",
    "#X = Rdata.loc[:,['PW_WAGE_annual', 'WAGE_annual', 'NAIC_CODE', 'TOTAL WORKERS']]\n",
    "#X['H-1B_DEPENDENT'] = Dep(Rdata['H-1B_DEPENDENT'])\n",
    "X = Rdata.loc[:,['PW_WAGE_annual', 'WAGE_annual']]"
   ]
  },
  {
   "cell_type": "code",
   "execution_count": 195,
   "metadata": {
    "collapsed": true
   },
   "outputs": [],
   "source": [
    "X = Rdata.loc[:,['PW_WAGE_annual', 'WAGE_annual']]"
   ]
  },
  {
   "cell_type": "code",
   "execution_count": 196,
   "metadata": {
    "collapsed": false
   },
   "outputs": [
    {
     "data": {
      "text/plain": [
       "LogisticRegression(C=1000000.0, class_weight=None, dual=False,\n",
       "          fit_intercept=True, intercept_scaling=1, max_iter=100,\n",
       "          multi_class='ovr', n_jobs=1, penalty='l2', random_state=None,\n",
       "          solver='liblinear', tol=0.0001, verbose=0, warm_start=False)"
      ]
     },
     "execution_count": 196,
     "metadata": {},
     "output_type": "execute_result"
    }
   ],
   "source": [
    "n = len(Y) / 2\n",
    "logreg = LogisticRegression(C = 1e6)\n",
    "logreg.fit(X, Y)"
   ]
  },
  {
   "cell_type": "code",
   "execution_count": 197,
   "metadata": {
    "collapsed": false
   },
   "outputs": [
    {
     "name": "stdout",
     "output_type": "stream",
     "text": [
      "[[    71      2]\n",
      " [  9571 536690]]\n"
     ]
    }
   ],
   "source": [
    "label  = logreg.predict(X)\n",
    "M = confusion_matrix(label, Y)\n",
    "print M"
   ]
  },
  {
   "cell_type": "code",
   "execution_count": 189,
   "metadata": {
    "collapsed": false
   },
   "outputs": [
    {
     "data": {
      "text/plain": [
       "4768"
      ]
     },
     "execution_count": 189,
     "metadata": {},
     "output_type": "execute_result"
    }
   ],
   "source": [
    "M[1,0]"
   ]
  },
  {
   "cell_type": "code",
   "execution_count": 198,
   "metadata": {
    "collapsed": false
   },
   "outputs": [
    {
     "name": "stdout",
     "output_type": "stream",
     "text": [
      "0.982477751705\n"
     ]
    }
   ],
   "source": [
    "print (M[0,0] + M[1,1]) / float(M.sum())"
   ]
  },
  {
   "cell_type": "code",
   "execution_count": 199,
   "metadata": {
    "collapsed": false
   },
   "outputs": [
    {
     "name": "stdout",
     "output_type": "stream",
     "text": [
      "Fitted parameters:\n",
      "  Intercept : [  1.20369910e-09]\n",
      "  Coefficient : [[ -5.41783653e-08   4.67181702e-05]]\n"
     ]
    }
   ],
   "source": [
    "print ('Fitted parameters:')\n",
    "print (\"  Intercept : {}\".format(logreg.intercept_))\n",
    "print (\"  Coefficient : {}\".format(logreg.coef_))"
   ]
  },
  {
   "cell_type": "code",
   "execution_count": 203,
   "metadata": {
    "collapsed": false
   },
   "outputs": [
    {
     "data": {
      "text/plain": [
       "-0.0047980886572631812"
      ]
     },
     "execution_count": 203,
     "metadata": {},
     "output_type": "execute_result"
    }
   ],
   "source": [
    "logreg.coef_[0][0] * np.mean(X.iloc[:,0])"
   ]
  },
  {
   "cell_type": "code",
   "execution_count": 204,
   "metadata": {
    "collapsed": false
   },
   "outputs": [
    {
     "data": {
      "text/plain": [
       "4.0266221383404677"
      ]
     },
     "execution_count": 204,
     "metadata": {},
     "output_type": "execute_result"
    }
   ],
   "source": [
    "logreg.coef_[0][1] * np.mean(X.iloc[:,1])"
   ]
  },
  {
   "cell_type": "code",
   "execution_count": 210,
   "metadata": {
    "collapsed": false
   },
   "outputs": [
    {
     "data": {
      "text/plain": [
       "array([ 0.98145293,  0.95981551,  0.99634478, ...,  0.92868888,\n",
       "        0.98141557,  0.99997252])"
      ]
     },
     "execution_count": 210,
     "metadata": {},
     "output_type": "execute_result"
    }
   ],
   "source": [
    "logreg.predict_proba(X)[:,1]"
   ]
  },
  {
   "cell_type": "code",
   "execution_count": 211,
   "metadata": {
    "collapsed": false
   },
   "outputs": [
    {
     "data": {
      "text/plain": [
       "536693"
      ]
     },
     "execution_count": 211,
     "metadata": {},
     "output_type": "execute_result"
    }
   ],
   "source": [
    "np.sum(data5['CASE_STATUS'] == 'CERTIFIED')"
   ]
  },
  {
   "cell_type": "code",
   "execution_count": 212,
   "metadata": {
    "collapsed": false
   },
   "outputs": [
    {
     "data": {
      "text/plain": [
       "9652"
      ]
     },
     "execution_count": 212,
     "metadata": {},
     "output_type": "execute_result"
    }
   ],
   "source": [
    "np.sum(data5['CASE_STATUS'] == 'DENIED')"
   ]
  }
 ],
 "metadata": {
  "kernelspec": {
   "display_name": "PUI2016_Python2",
   "language": "python",
   "name": "pui2016_python2"
  },
  "language_info": {
   "codemirror_mode": {
    "name": "ipython",
    "version": 2
   },
   "file_extension": ".py",
   "mimetype": "text/x-python",
   "name": "python",
   "nbconvert_exporter": "python",
   "pygments_lexer": "ipython2",
   "version": "2.7.12"
  }
 },
 "nbformat": 4,
 "nbformat_minor": 0
}
